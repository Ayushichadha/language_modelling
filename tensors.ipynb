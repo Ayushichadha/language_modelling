{
  "nbformat": 4,
  "nbformat_minor": 0,
  "metadata": {
    "colab": {
      "provenance": [],
      "authorship_tag": "ABX9TyOKXelSliaSNwf8mGcSV/Pp",
      "include_colab_link": true
    },
    "kernelspec": {
      "name": "python3",
      "display_name": "Python 3"
    },
    "language_info": {
      "name": "python"
    }
  },
  "cells": [
    {
      "cell_type": "markdown",
      "metadata": {
        "id": "view-in-github",
        "colab_type": "text"
      },
      "source": [
        "<a href=\"https://colab.research.google.com/github/Ayushichadha/language_modelling/blob/main/tensors.ipynb\" target=\"_parent\"><img src=\"https://colab.research.google.com/assets/colab-badge.svg\" alt=\"Open In Colab\"/></a>"
      ]
    },
    {
      "cell_type": "markdown",
      "source": [
        "**Introduction to tensors**"
      ],
      "metadata": {
        "id": "FkFy-mHMyve6"
      }
    },
    {
      "cell_type": "markdown",
      "source": [
        "Tensors are a specialized data structure that are very similar to arrays and matrices. In PyTorch, we use tensors to encode the inputs and outputs of a model, as well as the model’s parameters.\n",
        "\n",
        "Tensors are similar to NumPy’s ndarrays, except that tensors can run on GPUs or other hardware accelerators. In fact, tensors and NumPy arrays can often share the same underlying memory, eliminating the need to copy data. Tensors are also optimized for automatic differentiation."
      ],
      "metadata": {
        "id": "rfxW1zlC0rWN"
      }
    },
    {
      "cell_type": "code",
      "source": [
        "import torch\n",
        "import numpy as np"
      ],
      "metadata": {
        "id": "gsYX8zeU1UYk"
      },
      "execution_count": 6,
      "outputs": []
    },
    {
      "cell_type": "code",
      "source": [
        "# initialising a tensor\n",
        "# 1. directly from data\n",
        "data = [[1, 2],[3, 4]]\n",
        "x_data = torch.tensor(data)\n",
        "x_data"
      ],
      "metadata": {
        "colab": {
          "base_uri": "https://localhost:8080/"
        },
        "id": "Iz1fp2KG1C0l",
        "outputId": "b6690507-3554-4de6-830f-edebb23fa87f"
      },
      "execution_count": 5,
      "outputs": [
        {
          "output_type": "execute_result",
          "data": {
            "text/plain": [
              "tensor([[1, 2],\n",
              "        [3, 4]])"
            ]
          },
          "metadata": {},
          "execution_count": 5
        }
      ]
    },
    {
      "cell_type": "code",
      "source": [
        "#2. from numpy array\n",
        "np_array = np.array(data)\n",
        "x_np = torch.from_numpy(np_array)\n",
        "x_np"
      ],
      "metadata": {
        "colab": {
          "base_uri": "https://localhost:8080/"
        },
        "id": "-NhrhwES1WbU",
        "outputId": "24c89c86-c310-438a-a37e-2d8a393d75e8"
      },
      "execution_count": 7,
      "outputs": [
        {
          "output_type": "execute_result",
          "data": {
            "text/plain": [
              "tensor([[1, 2],\n",
              "        [3, 4]])"
            ]
          },
          "metadata": {},
          "execution_count": 7
        }
      ]
    },
    {
      "cell_type": "markdown",
      "source": [
        "From another tensor:\n",
        "\n",
        "The new tensor retains the properties(shape, datatype) of the argument tensor, unless explicitly overridden."
      ],
      "metadata": {
        "id": "YYjSld3g1zEX"
      }
    },
    {
      "cell_type": "code",
      "source": [
        "x_ones = torch.ones_like(x_data) # retains the properties of x_data\n",
        "print(f'Ones tensor: \\n {x_ones}\\n')\n",
        "\n",
        "x_rand = torch.rand_like(x_data, dtype=torch.float) # overrides the datatype of x_data\n",
        "print(f'Random tensor: \\n {x_rand}\\n')"
      ],
      "metadata": {
        "colab": {
          "base_uri": "https://localhost:8080/"
        },
        "id": "V9C0oppP2FNT",
        "outputId": "2c273dc4-6154-479f-841c-c0371ab45dda"
      },
      "execution_count": 8,
      "outputs": [
        {
          "output_type": "stream",
          "name": "stdout",
          "text": [
            "Ones tensor: \n",
            " tensor([[1, 1],\n",
            "        [1, 1]])\n",
            "\n",
            "Random tensor: \n",
            " tensor([[0.7576, 0.2793],\n",
            "        [0.4031, 0.7347]])\n",
            "\n"
          ]
        }
      ]
    },
    {
      "cell_type": "markdown",
      "source": [
        "With random or constant values:\n",
        "'shape' is a tuple of tensor dimensions. In the functions below, it determines the dimensionality of the output tensor."
      ],
      "metadata": {
        "id": "zdocolZ62nVZ"
      }
    },
    {
      "cell_type": "code",
      "source": [
        "shape = (2,3)\n",
        "rand_tensor = torch.rand(shape)\n",
        "ones_tensor = torch.ones(shape)\n",
        "zeros_tensor = torch.zeros(shape)\n",
        "\n",
        "print(f'Random Tensor: \\n {rand_tensor} \\n')\n",
        "print(f'Ones Tensor: \\n {ones_tensor} \\n')\n",
        "print(f'Zeros Tensor: \\n {zeros_tensor}')"
      ],
      "metadata": {
        "colab": {
          "base_uri": "https://localhost:8080/"
        },
        "id": "t3AhIJLP2m1K",
        "outputId": "fdc33366-2e08-4c25-a9ff-b32cc15ca12c"
      },
      "execution_count": 12,
      "outputs": [
        {
          "output_type": "stream",
          "name": "stdout",
          "text": [
            "Random Tensor: \n",
            " tensor([[0.4162, 0.2843, 0.3398],\n",
            "        [0.5239, 0.7981, 0.7718]]) \n",
            "\n",
            "Ones Tensor: \n",
            " tensor([[1., 1., 1.],\n",
            "        [1., 1., 1.]]) \n",
            "\n",
            "Zeros Tensor: \n",
            " tensor([[0., 0., 0.],\n",
            "        [0., 0., 0.]])\n"
          ]
        }
      ]
    },
    {
      "cell_type": "markdown",
      "source": [
        "Attributes of a Tensor: Tensor attributes their shape, datatype, and the device on which they are stored."
      ],
      "metadata": {
        "id": "0bL16lQ_3OY4"
      }
    },
    {
      "cell_type": "code",
      "source": [
        "tensor = torch.rand(3,4)\n",
        "print(f\"Shape of tensor: {tensor.shape}\")\n",
        "print(f\"Datatype of tensor: {tensor.dtype}\")\n",
        "print(f\"Device tensor is stored on: {tensor.device}\")"
      ],
      "metadata": {
        "colab": {
          "base_uri": "https://localhost:8080/"
        },
        "id": "z9Ski1aq3Mqf",
        "outputId": "f44f41cc-a556-467d-ac0c-aea19061af88"
      },
      "execution_count": 13,
      "outputs": [
        {
          "output_type": "stream",
          "name": "stdout",
          "text": [
            "Shape of tensor: torch.Size([3, 4])\n",
            "Datatype of tensor: torch.float32\n",
            "Device tensor is stored on: cpu\n"
          ]
        }
      ]
    },
    {
      "cell_type": "markdown",
      "source": [
        "**Operations on Tensors**:\n",
        "\n"
      ],
      "metadata": {
        "id": "5yx763XF3iec"
      }
    },
    {
      "cell_type": "markdown",
      "source": [
        "Note (from Pytorch tut):\n",
        "\n",
        "(over 1200 tensor operations, including arithmetic, linear algebra, matrix manipulation (transposing, indexing, slicing), sampling and more.)\n",
        "\n",
        "Each of these operations can be run on the CPU and Accelerator such as CUDA, MPS, MTIA, or XPU. If you’re using Colab, allocate an accelerator by going to Runtime > Change runtime type > GPU.\n",
        "\n",
        "By default, tensors are created on the CPU. We need to explicitly move tensors to the accelerator using .to method (after checking for accelerator availability). Keep in mind that copying large tensors across devices can be expensive in terms of time and memory!"
      ],
      "metadata": {
        "id": "cWElNaCN3rql"
      }
    },
    {
      "cell_type": "code",
      "source": [
        "# We move our tensor to the current accelerator if available\n",
        "if torch.accelerator.is_available():\n",
        "    tensor = tensor.to(torch.accelerator.current_accelerator())"
      ],
      "metadata": {
        "id": "tLS_dxHj3gRL"
      },
      "execution_count": 14,
      "outputs": []
    },
    {
      "cell_type": "markdown",
      "source": [
        "Standard numpy-like indexing and slicing:"
      ],
      "metadata": {
        "id": "0QXvZzNH4eqU"
      }
    },
    {
      "cell_type": "code",
      "source": [
        "tensor = torch.ones(4, 4)\n",
        "print(f\"First row: {tensor[0]}\")\n",
        "print(f\"First column: {tensor[:, 0]}\")\n",
        "print(f\"Last column: {tensor[..., -1]}\")\n",
        "tensor[:,1] = 0\n",
        "print(tensor)"
      ],
      "metadata": {
        "colab": {
          "base_uri": "https://localhost:8080/"
        },
        "id": "-2ASOaC94V0p",
        "outputId": "cf7b8200-7725-4543-e8ef-19c63342f23d"
      },
      "execution_count": 15,
      "outputs": [
        {
          "output_type": "stream",
          "name": "stdout",
          "text": [
            "First row: tensor([1., 1., 1., 1.])\n",
            "First column: tensor([1., 1., 1., 1.])\n",
            "Last column: tensor([1., 1., 1., 1.])\n",
            "tensor([[1., 0., 1., 1.],\n",
            "        [1., 0., 1., 1.],\n",
            "        [1., 0., 1., 1.],\n",
            "        [1., 0., 1., 1.]])\n"
          ]
        }
      ]
    },
    {
      "cell_type": "markdown",
      "source": [
        "joining tensors"
      ],
      "metadata": {
        "id": "IuFN59mu4pxe"
      }
    },
    {
      "cell_type": "code",
      "source": [
        "t1 = torch.cat([tensor, tensor, tensor], dim=1)\n",
        "print(t1)\n",
        "print(t1.shape)"
      ],
      "metadata": {
        "colab": {
          "base_uri": "https://localhost:8080/"
        },
        "id": "15lL1Mix4mm3",
        "outputId": "f2299c9b-6c79-4248-d682-12e8543a7d9b"
      },
      "execution_count": 17,
      "outputs": [
        {
          "output_type": "stream",
          "name": "stdout",
          "text": [
            "tensor([[1., 0., 1., 1., 1., 0., 1., 1., 1., 0., 1., 1.],\n",
            "        [1., 0., 1., 1., 1., 0., 1., 1., 1., 0., 1., 1.],\n",
            "        [1., 0., 1., 1., 1., 0., 1., 1., 1., 0., 1., 1.],\n",
            "        [1., 0., 1., 1., 1., 0., 1., 1., 1., 0., 1., 1.]])\n",
            "torch.Size([4, 12])\n"
          ]
        }
      ]
    },
    {
      "cell_type": "markdown",
      "source": [
        "Arithmetic operations"
      ],
      "metadata": {
        "id": "eDWB1sAu47Ht"
      }
    },
    {
      "cell_type": "code",
      "source": [
        "# This computes the matrix multiplication between two tensors. y1, y2, y3 will have the same value\n",
        "# ``tensor.T`` returns the transpose of a tensor\n",
        "y1 = tensor @ tensor.T\n",
        "y2 = tensor.matmul(tensor.T)\n",
        "\n",
        "y3 = torch.rand_like(y1)\n",
        "torch.matmul(tensor, tensor.T, out=y3)\n",
        "\n",
        "\n",
        "# This computes the element-wise product. z1, z2, z3 will have the same value\n",
        "z1 = tensor * tensor\n",
        "z2 = tensor.mul(tensor)\n",
        "\n",
        "z3 = torch.rand_like(tensor)\n",
        "torch.mul(tensor, tensor, out=z3)"
      ],
      "metadata": {
        "colab": {
          "base_uri": "https://localhost:8080/"
        },
        "id": "C54Upfpd4zy4",
        "outputId": "de179faa-8722-4f16-dd94-a78ad460f682"
      },
      "execution_count": 18,
      "outputs": [
        {
          "output_type": "execute_result",
          "data": {
            "text/plain": [
              "tensor([[1., 0., 1., 1.],\n",
              "        [1., 0., 1., 1.],\n",
              "        [1., 0., 1., 1.],\n",
              "        [1., 0., 1., 1.]])"
            ]
          },
          "metadata": {},
          "execution_count": 18
        }
      ]
    },
    {
      "cell_type": "markdown",
      "source": [
        "------------[Another tutorial from Pytorch]-----------"
      ],
      "metadata": {
        "id": "iT8jXhoi4_Rw"
      }
    },
    {
      "cell_type": "code",
      "execution_count": 1,
      "metadata": {
        "id": "83RINDfsqRLr",
        "colab": {
          "base_uri": "https://localhost:8080/"
        },
        "outputId": "1fc9c6eb-1fb5-4030-f2cf-02b76f732651"
      },
      "outputs": [
        {
          "output_type": "execute_result",
          "data": {
            "text/plain": [
              "<torch._C.Generator at 0x7f3208b2d2b0>"
            ]
          },
          "metadata": {},
          "execution_count": 1
        }
      ],
      "source": [
        "import torch\n",
        "torch.manual_seed(1)"
      ]
    },
    {
      "cell_type": "markdown",
      "source": [
        "Creating Tensors"
      ],
      "metadata": {
        "id": "BJwghO6-zNc5"
      }
    },
    {
      "cell_type": "markdown",
      "source": [
        "Tensors can be created from Python lists with the torch.tensor() function"
      ],
      "metadata": {
        "id": "569ut2IJzRV1"
      }
    },
    {
      "cell_type": "code",
      "source": [
        "V_data = [1., 2., 3.]\n",
        "V = torch.tensor(V_data)\n",
        "print(V)\n",
        "\n",
        "# creates a matrix\n",
        "M_data = [[1., 2., 3.], [4., 5., 6.]]\n",
        "M = torch.tensor(M_data)\n",
        "print(M)\n",
        "\n",
        "# creates a 3D tensor of size 2x2X2.\n",
        "T_data = [[[1., 2.], [3., 4.]],\n",
        "          [[5., 6.], [7., 8.]]]\n",
        "\n",
        "T = torch.tensor(T_data)\n",
        "print(T)"
      ],
      "metadata": {
        "colab": {
          "base_uri": "https://localhost:8080/"
        },
        "id": "41dN9w95zMR7",
        "outputId": "3c78f1a2-3931-44ba-a18d-f84d87535baa"
      },
      "execution_count": 3,
      "outputs": [
        {
          "output_type": "stream",
          "name": "stdout",
          "text": [
            "tensor([1., 2., 3.])\n",
            "tensor([[1., 2., 3.],\n",
            "        [4., 5., 6.]])\n",
            "tensor([[[1., 2.],\n",
            "         [3., 4.]],\n",
            "\n",
            "        [[5., 6.],\n",
            "         [7., 8.]]])\n"
          ]
        }
      ]
    },
    {
      "cell_type": "markdown",
      "source": [
        "**What is a 3D tensor?**"
      ],
      "metadata": {
        "id": "pJNZeQqK0RlI"
      }
    },
    {
      "cell_type": "markdown",
      "source": [
        " Think about it like this. If you have a vector, indexing into the vector gives you a scalar. If you have a matrix, indexing into the matrix gives you a vector. If you have a 3D tensor, then indexing into the tensor gives you a matrix!"
      ],
      "metadata": {
        "id": "yXQLPsUr5z3v"
      }
    },
    {
      "cell_type": "code",
      "source": [
        "# Index into V and get a scalar (0 dimensional tensor)\n",
        "print(V[0])\n",
        "# Get a Python number from it\n",
        "print(V[0].item())\n",
        "\n",
        "# Index into M and get a vector\n",
        "print(M[0])\n",
        "\n",
        "# Index into T and get a matrix\n",
        "print(T[0])"
      ],
      "metadata": {
        "colab": {
          "base_uri": "https://localhost:8080/"
        },
        "id": "Pvm9aApn0MVe",
        "outputId": "9658febc-fff9-4ae6-ae48-8c310e14d545"
      },
      "execution_count": 19,
      "outputs": [
        {
          "output_type": "stream",
          "name": "stdout",
          "text": [
            "tensor(1.)\n",
            "1.0\n",
            "tensor([1., 2., 3.])\n",
            "tensor([[1., 2.],\n",
            "        [3., 4.]])\n"
          ]
        }
      ]
    },
    {
      "cell_type": "code",
      "source": [
        "# creating a tensor with random data and the supplied dimensionality with torch.randn()\n",
        "x = torch.randn((3, 4, 5))\n",
        "print(x)\n"
      ],
      "metadata": {
        "colab": {
          "base_uri": "https://localhost:8080/"
        },
        "id": "Oseq2Dkk6eRL",
        "outputId": "3a2bd633-a0c5-4d78-97ea-83970cf3c9ee"
      },
      "execution_count": 20,
      "outputs": [
        {
          "output_type": "stream",
          "name": "stdout",
          "text": [
            "tensor([[[ 0.9837,  0.8793, -1.4504, -1.1802,  0.4100],\n",
            "         [ 0.4085,  0.2579,  1.0950,  1.3264,  0.8547],\n",
            "         [-0.2805,  0.7000, -1.4567,  1.6089,  0.0938],\n",
            "         [-1.2597, -0.5047, -1.4746, -0.3416, -0.3003]],\n",
            "\n",
            "        [[ 1.3075, -1.1628,  0.1196, -0.1631, -0.9247],\n",
            "         [-0.9301,  1.4301,  0.4208, -0.3538,  0.7639],\n",
            "         [-0.5890, -0.7636,  0.6155,  0.1938, -2.5832],\n",
            "         [ 0.8539,  1.2466,  0.5057,  0.9505,  1.2966]],\n",
            "\n",
            "        [[-0.1010,  0.3434, -1.0703, -0.8743, -0.3030],\n",
            "         [-1.7618,  0.6348, -0.8044, -1.0371, -1.0669],\n",
            "         [-0.2085, -0.2155,  2.2952,  0.6749,  1.7133],\n",
            "         [-1.7943, -1.5208,  0.9196, -0.5484, -0.3472]]])\n"
          ]
        }
      ]
    },
    {
      "cell_type": "code",
      "source": [
        "# operations with tensors\n",
        "x = torch.tensor([1., 2., 3.])\n",
        "y = torch.tensor([4., 5., 6.])\n",
        "z = x + y\n",
        "print(z)"
      ],
      "metadata": {
        "colab": {
          "base_uri": "https://localhost:8080/"
        },
        "id": "nRVotiJx6ogR",
        "outputId": "6a0a696d-708b-4bc7-da05-54fa5b1c1a9c"
      },
      "execution_count": 21,
      "outputs": [
        {
          "output_type": "stream",
          "name": "stdout",
          "text": [
            "tensor([5., 7., 9.])\n"
          ]
        }
      ]
    },
    {
      "cell_type": "code",
      "source": [
        "# By default, it concatenates along the first axis (concatenates rows)\n",
        "x_1 = torch.randn(2, 5)\n",
        "y_1 = torch.randn(3, 5)\n",
        "z_1 = torch.cat([x_1, y_1])\n",
        "print(z_1)\n",
        "\n",
        "# Concatenate columns:\n",
        "x_2 = torch.randn(2, 3)\n",
        "y_2 = torch.randn(2, 5)\n",
        "# second arg specifies which axis to concat along\n",
        "z_2 = torch.cat([x_2, y_2], 1)\n",
        "print(z_2)\n",
        "\n",
        "# If your tensors are not compatible, torch will complain.  Uncomment to see the error\n",
        "# torch.cat([x_1, x_2])"
      ],
      "metadata": {
        "colab": {
          "base_uri": "https://localhost:8080/"
        },
        "id": "YIkow9fY7Bfj",
        "outputId": "9eb69df3-950f-494b-e76c-dc07a8aa3a30"
      },
      "execution_count": 22,
      "outputs": [
        {
          "output_type": "stream",
          "name": "stdout",
          "text": [
            "tensor([[-1.3459e+00,  5.1190e-01, -6.9328e-01, -1.6676e-01, -9.9988e-01],\n",
            "        [-1.6476e+00,  8.0983e-01,  5.5424e-02,  1.1340e+00, -5.3264e-01],\n",
            "        [ 6.5921e-01, -1.5964e+00, -3.7687e-01, -3.1020e+00, -9.9467e-02],\n",
            "        [-7.2126e-01,  1.2708e+00, -2.0225e-03, -1.0952e+00,  6.0165e-01],\n",
            "        [ 6.9841e-01, -8.0052e-01,  1.5381e+00,  1.4673e+00,  1.5951e+00]])\n",
            "tensor([[-1.5279,  1.0156, -0.2020, -1.2960, -0.9434,  0.6684,  1.1628, -0.3229],\n",
            "        [-1.2865,  0.8231, -0.6101,  1.8782, -0.5666,  0.4016, -0.1153,  0.3170]])\n"
          ]
        }
      ]
    },
    {
      "cell_type": "markdown",
      "source": [
        "**Reshaping Tensors**"
      ],
      "metadata": {
        "id": "ib3mW3HB7HbF"
      }
    },
    {
      "cell_type": "code",
      "source": [
        "x = torch.randn(2, 3, 4)\n",
        "print(x)\n",
        "print(x.view(2, 12))  # Reshape to 2 rows, 12 columns\n",
        "# Same as above.  If one of the dimensions is -1, its size can be inferred\n",
        "print(x.view(2, -1))"
      ],
      "metadata": {
        "colab": {
          "base_uri": "https://localhost:8080/"
        },
        "id": "t44Q8P4d7GKQ",
        "outputId": "778767e7-f855-42fa-c9aa-6f5814dee92c"
      },
      "execution_count": 23,
      "outputs": [
        {
          "output_type": "stream",
          "name": "stdout",
          "text": [
            "tensor([[[ 2.6415, -0.9624, -0.2076, -1.3889],\n",
            "         [ 0.0127, -1.8734,  1.7997,  0.2824],\n",
            "         [-1.2560,  0.8956,  0.1675,  0.7514]],\n",
            "\n",
            "        [[ 2.4142,  1.0206, -0.4405, -1.7342],\n",
            "         [-1.2362,  1.5786, -1.1161,  0.7678],\n",
            "         [-0.5882,  2.1189, -0.5422, -2.4593]]])\n",
            "tensor([[ 2.6415, -0.9624, -0.2076, -1.3889,  0.0127, -1.8734,  1.7997,  0.2824,\n",
            "         -1.2560,  0.8956,  0.1675,  0.7514],\n",
            "        [ 2.4142,  1.0206, -0.4405, -1.7342, -1.2362,  1.5786, -1.1161,  0.7678,\n",
            "         -0.5882,  2.1189, -0.5422, -2.4593]])\n",
            "tensor([[ 2.6415, -0.9624, -0.2076, -1.3889,  0.0127, -1.8734,  1.7997,  0.2824,\n",
            "         -1.2560,  0.8956,  0.1675,  0.7514],\n",
            "        [ 2.4142,  1.0206, -0.4405, -1.7342, -1.2362,  1.5786, -1.1161,  0.7678,\n",
            "         -0.5882,  2.1189, -0.5422, -2.4593]])\n"
          ]
        }
      ]
    }
  ]
}